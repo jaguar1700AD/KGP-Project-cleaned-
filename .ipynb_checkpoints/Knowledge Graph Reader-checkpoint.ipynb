{
 "cells": [
  {
   "cell_type": "code",
   "execution_count": 1,
   "metadata": {},
   "outputs": [],
   "source": [
    "# G = nx.MultiDiGraph()\n",
    "\n",
    "# G.add_edge(1, 3, reln = '1a', label = 'Mery')\n",
    "# G.add_edge(2, 5, reln = '2')\n",
    "# G.add_edge(2, 5, reln = '3')\n",
    "# G.add_edge(5, 2, reln = '4')\n",
    "\n",
    "# for r in G[2][5]:\n",
    "#     print(G[2][5][r]['reln'])\n",
    "\n",
    "# for n,nbrsdict in G.adjacency_iter():\n",
    "#     for nbr,keydict in nbrsdict.items():\n",
    "#         for key,eattr in keydict.items():\n",
    "#             if 'weight' in eattr:\n",
    "#                 print(n,nbr,eattr['weight'])"
   ]
  },
  {
   "cell_type": "code",
   "execution_count": 2,
   "metadata": {},
   "outputs": [],
   "source": [
    "import ast\n",
    "import os\n",
    "import csv\n",
    "import sys\n",
    "import bs4 as bs\n",
    "import nltk\n",
    "import networkx as nx\n",
    "\n",
    "maxInt = sys.maxsize\n",
    "\n",
    "while True:\n",
    "    # decrease the maxInt value by factor 10 \n",
    "    # as long as the OverflowError occurs.\n",
    "\n",
    "    try:\n",
    "        csv.field_size_limit(maxInt)\n",
    "        break\n",
    "    except OverflowError:\n",
    "        maxInt = int(maxInt/10)"
   ]
  },
  {
   "cell_type": "code",
   "execution_count": 3,
   "metadata": {},
   "outputs": [],
   "source": [
    "global_dir = 'C:\\\\Users\\\\shash\\\\Desktop\\\\'\n",
    "directory = 'Extractions\\\\Graph\\\\'"
   ]
  },
  {
   "cell_type": "code",
   "execution_count": 4,
   "metadata": {},
   "outputs": [],
   "source": [
    "def get_set(set_string):\n",
    "    if set_string == 'set()':\n",
    "        return set()\n",
    "    else:\n",
    "        return ast.literal_eval(set_string)"
   ]
  },
  {
   "cell_type": "code",
   "execution_count": 5,
   "metadata": {},
   "outputs": [],
   "source": [
    "ent_name = {}\n",
    "with open(global_dir + 'Extractions\\\\ent_index.txt','r') as csv_file:\n",
    "        csv_reader = csv.DictReader(csv_file, delimiter = '\\t') \n",
    "        for entity in csv_reader:\n",
    "            ent_name[int(entity['index'])] = entity['name']"
   ]
  },
  {
   "cell_type": "code",
   "execution_count": 6,
   "metadata": {},
   "outputs": [],
   "source": [
    "G = nx.MultiDiGraph()"
   ]
  },
  {
   "cell_type": "code",
   "execution_count": 7,
   "metadata": {},
   "outputs": [],
   "source": [
    "# Read 1a\n",
    "# One way relation"
   ]
  },
  {
   "cell_type": "code",
   "execution_count": 8,
   "metadata": {},
   "outputs": [],
   "source": [
    "def graph_has_1a_edge(G, v1, v2):\n",
    "    try:\n",
    "        x = G[v1][v2]\n",
    "    except:\n",
    "        return False\n",
    "    \n",
    "    for r in x:\n",
    "        if x[r] == {'reln' : '1a'}:\n",
    "            return True\n",
    "    return False"
   ]
  },
  {
   "cell_type": "code",
   "execution_count": 9,
   "metadata": {},
   "outputs": [
    {
     "name": "stdout",
     "output_type": "stream",
     "text": [
      "Line / 10,000 : 1 / 2380 \r"
     ]
    }
   ],
   "source": [
    "with open(global_dir + directory + '1a.txt', 'r') as csv_file:\n",
    "    csv_reader = csv.DictReader(csv_file, delimiter = '\\t') \n",
    "    \n",
    "    n = 0\n",
    "    for line in csv_reader:\n",
    "        if n % 10000 == 0:\n",
    "            sys.stdout.flush()\n",
    "            sys.stdout.write(\"Line / 10,000 : %d / 2380 \\r\" % (n / 10000))\n",
    "        v1 = int(line['ent1'])\n",
    "        v2 = int(line['ent2'])\n",
    "        if not graph_has_1a_edge(G, v1, v2):\n",
    "            G.add_edge(v1, v2, reln = '1a')\n",
    "        n += 1\n",
    "        \n"
   ]
  },
  {
   "cell_type": "code",
   "execution_count": 10,
   "metadata": {},
   "outputs": [],
   "source": [
    "# Read 1b\n",
    "# One way relation"
   ]
  },
  {
   "cell_type": "code",
   "execution_count": 11,
   "metadata": {},
   "outputs": [
    {
     "name": "stdout",
     "output_type": "stream",
     "text": [
      "Line / 10,000 : 0 / 246 \r"
     ]
    }
   ],
   "source": [
    "with open(global_dir + directory + '1b.txt', 'r') as csv_file:\n",
    "    csv_reader = csv.DictReader(csv_file, delimiter = '\\t') \n",
    "    \n",
    "    n = 0\n",
    "    for line in csv_reader:\n",
    "        if n % 10000 == 0:\n",
    "            sys.stdout.flush()\n",
    "            sys.stdout.write(\"Line / 10,000 : %d / 246 \\r\" % (n / 10000))\n",
    "        G.add_edge(int(line['ent1']), int(line['ent2']), reln = '1b')\n",
    "        n += 1"
   ]
  },
  {
   "cell_type": "code",
   "execution_count": 12,
   "metadata": {},
   "outputs": [],
   "source": [
    "# Read 2\n",
    "# One way relation"
   ]
  },
  {
   "cell_type": "code",
   "execution_count": 13,
   "metadata": {},
   "outputs": [
    {
     "name": "stdout",
     "output_type": "stream",
     "text": [
      "Line / 10,000 : 0 / 20 \r"
     ]
    }
   ],
   "source": [
    "with open(global_dir + directory + '2.txt', 'r') as csv_file:\n",
    "    csv_reader = csv.DictReader(csv_file, delimiter = '\\t') \n",
    "    \n",
    "    n = 0\n",
    "    for line in csv_reader:\n",
    "        if n % 10000 == 0:\n",
    "            sys.stdout.flush()\n",
    "            sys.stdout.write(\"Line / 10,000 : %d / 20 \\r\" % (n / 10000))\n",
    "        G.add_edge(int(line['ent1']), int(line['ent2']), reln = '2')\n",
    "        n += 1"
   ]
  },
  {
   "cell_type": "code",
   "execution_count": 14,
   "metadata": {},
   "outputs": [],
   "source": [
    "# Read 3\n",
    "# Two way relation"
   ]
  },
  {
   "cell_type": "code",
   "execution_count": 15,
   "metadata": {},
   "outputs": [
    {
     "name": "stdout",
     "output_type": "stream",
     "text": [
      "Line / 10,000 : 5 / 88628 \r"
     ]
    }
   ],
   "source": [
    "with open(global_dir + directory + '3.txt', 'r') as csv_file:\n",
    "    csv_reader = csv.DictReader(csv_file, delimiter = '\\t') \n",
    "    \n",
    "    n = 0\n",
    "    for line in csv_reader:\n",
    "        if n % 10000 == 0:\n",
    "            sys.stdout.flush()\n",
    "            sys.stdout.write(\"Line / 10,000 : %d / 88628 \\r\" % (n / 10000))\n",
    "        v1 = line['ent1']\n",
    "        v2 = line['ent2']\n",
    "        if v1.isnumeric() and v2.isnumeric():\n",
    "            v1 = int(v1)\n",
    "            v2 = int(v2)\n",
    "            G.add_edge(v1, v2, reln = '3')\n",
    "            G.add_edge(v2, v1, reln = '3')\n",
    "            n += 1"
   ]
  },
  {
   "cell_type": "code",
   "execution_count": 16,
   "metadata": {},
   "outputs": [],
   "source": [
    "# Read 4\n",
    "# Two way relation\n",
    "# For 4, check if that reln and zipf label is already present. Add new only if not present"
   ]
  },
  {
   "cell_type": "code",
   "execution_count": 17,
   "metadata": {},
   "outputs": [],
   "source": [
    "def graph_has_edge(G, v1, v2, label):\n",
    "    try:\n",
    "        x = G[v1][v2]\n",
    "    except:\n",
    "        return False\n",
    "    \n",
    "    for r in x:\n",
    "        if x[r] == {'reln' : '4', 'label' : label}:\n",
    "            return True\n",
    "    return False"
   ]
  },
  {
   "cell_type": "code",
   "execution_count": 18,
   "metadata": {},
   "outputs": [
    {
     "name": "stdout",
     "output_type": "stream",
     "text": [
      "Line / 10,000 : 2 / 88628 \r"
     ]
    }
   ],
   "source": [
    "with open(global_dir + directory + '4.txt', 'r') as csv_file:\n",
    "    csv_reader = csv.DictReader(csv_file, delimiter = '\\t') \n",
    "    \n",
    "    n = 0\n",
    "    for line in csv_reader:\n",
    "        if n % 10000 == 0:\n",
    "            sys.stdout.flush()\n",
    "            sys.stdout.write(\"Line / 10,000 : %d / 88628 \\r\" % (n / 10000))\n",
    "        \n",
    "        v1 = line['ent1']\n",
    "        v2 = line['ent2']\n",
    "        if v1.isnumeric() and v2.isnumeric():\n",
    "            v1 = int(v1)\n",
    "            v2 = int(v2)\n",
    "            edge_label = get_set(line['relation'])\n",
    "            if not graph_has_edge(G, v1, v2, edge_label):\n",
    "                G.add_edge(v1, v2, reln = '4', label = edge_label)\n",
    "            if not graph_has_edge(G, v2, v1, edge_label):\n",
    "                G.add_edge(v2, v1, reln = '4', label = edge_label)\n",
    "            n += 1"
   ]
  },
  {
   "cell_type": "code",
   "execution_count": 19,
   "metadata": {},
   "outputs": [],
   "source": [
    "# Sanity check: \n",
    "# for every edge G[x][y]:\n",
    "#     Initialize count for '1a', '1b', '2', '3' to 0\n",
    "#     Initialize list for reln '4' to a empty list\n",
    "#     for r in G[x][y]:\n",
    "#         Update count for reln based on value of G[x][y][r]['reln']\n",
    "#         For reln of type 4, keep list of labels instead of count\n",
    "#     Now, count for relns 1a, 1b, 2, 3 should be one or zero\n",
    "#     List for reln 4 should have no duplicates\n",
    "\n",
    "def duplicates(set_list):\n",
    "    for i in range(len(set_list)):\n",
    "        for j in range(i + 1, len(set_list)):\n",
    "            if set_list[i] == set_list[j]:\n",
    "                return True\n",
    "    return False\n",
    "\n",
    "for x in G:\n",
    "    for y in G[x]:\n",
    "        count = {'1a' : 0, '1b' : 0, '2' : 0, '3' : 0}\n",
    "        label_list = []\n",
    "        for r in G[x][y]:\n",
    "            reln = G[x][y][r]['reln'] \n",
    "            if reln != '4':\n",
    "                count[reln] += 1\n",
    "            else:\n",
    "                label_list.append(G[x][y][r]['label'])\n",
    "        if  duplicates(label_list) or count['1a'] > 1 or count['1b'] > 1 or count['2'] > 1 or count['3'] > 1:\n",
    "            print('Error in graph edge: ', x, y, G[x][y])"
   ]
  },
  {
   "cell_type": "code",
   "execution_count": null,
   "metadata": {},
   "outputs": [],
   "source": []
  },
  {
   "cell_type": "code",
   "execution_count": null,
   "metadata": {},
   "outputs": [],
   "source": []
  }
 ],
 "metadata": {
  "kernelspec": {
   "display_name": "Python 3",
   "language": "python",
   "name": "python3"
  },
  "language_info": {
   "codemirror_mode": {
    "name": "ipython",
    "version": 3
   },
   "file_extension": ".py",
   "mimetype": "text/x-python",
   "name": "python",
   "nbconvert_exporter": "python",
   "pygments_lexer": "ipython3",
   "version": "3.7.3"
  }
 },
 "nbformat": 4,
 "nbformat_minor": 2
}
