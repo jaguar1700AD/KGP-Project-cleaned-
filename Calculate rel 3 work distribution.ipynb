{
 "cells": [
  {
   "cell_type": "code",
   "execution_count": 1,
   "metadata": {},
   "outputs": [],
   "source": [
    "import sys"
   ]
  },
  {
   "cell_type": "code",
   "execution_count": 2,
   "metadata": {},
   "outputs": [],
   "source": [
    "num = 632706\n",
    "parts = 7"
   ]
  },
  {
   "cell_type": "code",
   "execution_count": 3,
   "metadata": {},
   "outputs": [
    {
     "data": {
      "text/plain": [
       "[2, 4, 6, 8, 10, 12]"
      ]
     },
     "execution_count": 3,
     "metadata": {},
     "output_type": "execute_result"
    }
   ],
   "source": [
    "divider = [2 * i for i in range(1, parts)]\n",
    "divider"
   ]
  },
  {
   "cell_type": "code",
   "execution_count": 4,
   "metadata": {},
   "outputs": [
    {
     "data": {
      "text/plain": [
       "[0, 2, 4, 6, 8, 10, 12, 632706]"
      ]
     },
     "execution_count": 4,
     "metadata": {},
     "output_type": "execute_result"
    }
   ],
   "source": [
    "divider.insert(0, 0)\n",
    "divider.append(num)\n",
    "divider"
   ]
  },
  {
   "cell_type": "code",
   "execution_count": 5,
   "metadata": {},
   "outputs": [],
   "source": [
    "def calc_work(i):\n",
    "    return (divider[i + 1] - divider[i]) * (num - (divider[i] + divider[i + 1] - 1) / 2) / num"
   ]
  },
  {
   "cell_type": "code",
   "execution_count": 6,
   "metadata": {},
   "outputs": [
    {
     "data": {
      "text/plain": [
       "[1.999998419487092,\n",
       " 1.9999920974354597,\n",
       " 1.9999857753838275,\n",
       " 1.9999794533321953,\n",
       " 1.999973131280563,\n",
       " 1.9999668092289309,\n",
       " 316341.50010431383]"
      ]
     },
     "execution_count": 6,
     "metadata": {},
     "output_type": "execute_result"
    }
   ],
   "source": [
    "work = [0] * parts\n",
    "for i in range(parts):\n",
    "    work[i] = calc_work(i)\n",
    "work"
   ]
  },
  {
   "cell_type": "code",
   "execution_count": 7,
   "metadata": {},
   "outputs": [
    {
     "name": "stdout",
     "output_type": "stream",
     "text": [
      "2      \r"
     ]
    }
   ],
   "source": [
    "min_work = min(work)\n",
    "max_work = max(work)\n",
    "\n",
    "while(max_work - min_work > 3):\n",
    "    \n",
    "    min_work = min(work)\n",
    "    max_work = max(work)\n",
    "\n",
    "    sys.stdout.flush()\n",
    "    sys.stdout.write(\"%d \\r\" % (max_work - min_work))\n",
    "\n",
    "    max_ind = work.index(max_work)\n",
    "    \n",
    "    div = max([int(160000 / (max_work - min_work)), 4])\n",
    "    tweak = int((divider[max_ind + 1] - divider[max_ind]) / div)\n",
    "    \n",
    "    if max_ind > 0:\n",
    "        divider[max_ind] += tweak\n",
    "        work[max_ind - 1] = calc_work(max_ind - 1)\n",
    "\n",
    "    if max_ind < parts - 1:\n",
    "        divider[max_ind + 1] -= tweak\n",
    "        work[max_ind + 1] = calc_work(max_ind + 1)\n",
    "\n",
    "    work[max_ind] = calc_work(max_ind)"
   ]
  },
  {
   "cell_type": "code",
   "execution_count": 8,
   "metadata": {},
   "outputs": [
    {
     "data": {
      "text/plain": [
       "[0, 46932, 97969, 154423, 218501, 294509, 393565, 632706]"
      ]
     },
     "execution_count": 8,
     "metadata": {},
     "output_type": "execute_result"
    }
   ],
   "source": [
    "divider"
   ]
  },
  {
   "cell_type": "code",
   "execution_count": null,
   "metadata": {},
   "outputs": [],
   "source": []
  }
 ],
 "metadata": {
  "kernelspec": {
   "display_name": "Python 3",
   "language": "python",
   "name": "python3"
  },
  "language_info": {
   "codemirror_mode": {
    "name": "ipython",
    "version": 3
   },
   "file_extension": ".py",
   "mimetype": "text/x-python",
   "name": "python",
   "nbconvert_exporter": "python",
   "pygments_lexer": "ipython3",
   "version": "3.7.3"
  }
 },
 "nbformat": 4,
 "nbformat_minor": 2
}
